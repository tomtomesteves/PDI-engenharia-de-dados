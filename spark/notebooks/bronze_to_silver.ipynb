{
 "cells": [
  {
   "cell_type": "code",
   "execution_count": 67,
   "id": "dcf35f11-6154-4a13-9b71-eebebf408a67",
   "metadata": {},
   "outputs": [],
   "source": [
    "from pyspark.sql import SparkSession\n",
    "from pyspark.sql.functions import monotonically_increasing_id\n",
    "from pyspark.sql.window import Window\n",
    "from pyspark.sql.functions import dense_rank"
   ]
  },
  {
   "cell_type": "code",
   "execution_count": 68,
   "id": "92203e4a-b7bd-4084-9153-1fb54f930729",
   "metadata": {},
   "outputs": [],
   "source": [
    "spark = SparkSession.builder.master(\"local[*]\") \\\n",
    "    .config(\"spark.executor.instances\", \"5\") \\\n",
    "    .config(\"spark.sql.legacy.timeParserPolicy\", \"LEGACY\").getOrCreate()"
   ]
  },
  {
   "cell_type": "code",
   "execution_count": 69,
   "id": "77de3484-39ba-4fa5-9c8a-0f3f29f9ba62",
   "metadata": {},
   "outputs": [],
   "source": [
    "diretorio_parquet = \"spark-warehouse/bronze/supermarket_sales\"\n",
    "\n",
    "dados = spark.read.parquet(diretorio_parquet)"
   ]
  },
  {
   "cell_type": "code",
   "execution_count": 70,
   "id": "2e39b35c-3ca6-4d7f-abcd-91803af77587",
   "metadata": {},
   "outputs": [
    {
     "name": "stdout",
     "output_type": "stream",
     "text": [
      "+-----------+------+---------+-------------+------+--------------------+----------+--------+-------------+--------+-----------+------+-----------------------+------------+------+----+-----+---+----+------+\n",
      "| invoice_id|branch|     city|customer_type|gender|        product_line|unit_price|quantity|tax_5_percent|   total|    payment|  cogs|gross_margin_percentage|gross_income|rating|year|month|day|hour|minute|\n",
      "+-----------+------+---------+-------------+------+--------------------+----------+--------+-------------+--------+-----------+------+-----------------------+------------+------+----+-----+---+----+------+\n",
      "|308-81-0538|     A|   Yangon|       Normal|Female| Fashion accessories|     73.05|       4|        14.61|  306.81|Credit card| 292.2|            4.761904762|       14.61|   4.9|2019|    2| 25|  17|    16|\n",
      "|834-83-1826|     B| Mandalay|       Member|Female|  Home and lifestyle|     82.04|       5|        20.51|  430.71|Credit card| 410.2|            4.761904762|       20.51|   7.6|2019|    2| 25|  17|    16|\n",
      "|873-95-4984|     B| Mandalay|       Member|Female|   Health and beauty|      76.9|       7|       26.915| 565.215|       Cash| 538.3|            4.761904762|      26.915|   7.7|2019|    2| 15|  20|    21|\n",
      "|400-80-4065|     C|Naypyitaw|       Member|  Male|   Health and beauty|     68.55|       4|        13.71|  287.91|Credit card| 274.2|            4.761904762|       13.71|   9.2|2019|    2| 15|  20|    21|\n",
      "|188-55-0967|     B| Mandalay|       Member|  Male|   Health and beauty|     66.47|      10|       33.235| 697.935|Credit card| 664.7|            4.761904762|      33.235|   5.0|2019|    1| 15|  15|     1|\n",
      "|660-29-7083|     C|Naypyitaw|       Normal|  Male|Electronic access...|     55.87|      10|       27.935| 586.635|       Cash| 558.7|            4.761904762|      27.935|   5.8|2019|    1| 15|  15|     1|\n",
      "|346-84-3103|     B| Mandalay|       Member|Female|Electronic access...|     13.22|       5|        3.305|  69.405|       Cash|  66.1|            4.761904762|       3.305|   4.3|2019|    3|  2|  19|    26|\n",
      "|825-94-5922|     B| Mandalay|       Normal|  Male|   Sports and travel|     25.31|       2|        2.531|  53.151|    Ewallet| 50.62|            4.761904762|       2.531|   7.2|2019|    3|  2|  19|    26|\n",
      "|560-30-5617|     B| Mandalay|       Normal|Female|   Sports and travel|     24.77|       5|       6.1925|130.0425|       Cash|123.85|            4.761904762|      6.1925|   8.5|2019|    3| 24|  18|    27|\n",
      "|538-22-0304|     C|Naypyitaw|       Normal|  Male|Electronic access...|     64.95|      10|       32.475| 681.975|       Cash| 649.5|            4.761904762|      32.475|   5.2|2019|    3| 24|  18|    27|\n",
      "|672-51-8681|     C|Naypyitaw|       Member|Female|Electronic access...|     66.65|       9|      29.9925|629.8425|Credit card|599.85|            4.761904762|     29.9925|   9.7|2019|    1|  4|  18|    19|\n",
      "|732-94-0499|     C|Naypyitaw|       Normal|Female|Electronic access...|     41.65|      10|       20.825| 437.325|Credit card| 416.5|            4.761904762|      20.825|   5.4|2019|    1| 13|  17|     4|\n",
      "|810-60-6344|     C|Naypyitaw|       Normal|Female|Electronic access...|     40.86|       8|       16.344| 343.224|Credit card|326.88|            4.761904762|      16.344|   6.5|2019|    2|  7|  14|    38|\n",
      "|633-09-3463|     C|Naypyitaw|       Normal|Female|Electronic access...|     47.65|       3|       7.1475|150.0975|Credit card|142.95|            4.761904762|      7.1475|   9.5|2019|    3| 28|  12|    58|\n",
      "|377-79-7592|     C|Naypyitaw|       Member|Female|Electronic access...|     44.84|       9|       20.178| 423.738|Credit card|403.56|            4.761904762|      20.178|   7.5|2019|    1| 14|  14|     0|\n",
      "|250-81-7186|     C|Naypyitaw|       Normal|Female|Electronic access...|     99.69|       1|       4.9845|104.6745|Credit card| 99.69|            4.761904762|      4.9845|   8.0|2019|    2| 27|  10|    23|\n",
      "|182-69-8360|     B| Mandalay|       Normal|Female|Electronic access...|     23.65|       4|         4.73|   99.33|Credit card|  94.6|            4.761904762|        4.73|   4.0|2019|    1| 30|  13|    32|\n",
      "|817-69-8206|     B| Mandalay|       Normal|Female|Electronic access...|     99.73|       9|      44.8785|942.4485|Credit card|897.57|            4.761904762|     44.8785|   6.5|2019|    3|  2|  19|    42|\n",
      "|431-66-2305|     B| Mandalay|       Normal|Female|Electronic access...|     88.25|       9|      39.7125|833.9625|Credit card|794.25|            4.761904762|     39.7125|   7.6|2019|    2| 15|  20|    51|\n",
      "|156-20-0370|     B| Mandalay|       Normal|Female|Electronic access...|     25.45|       1|       1.2725| 26.7225|Credit card| 25.45|            4.761904762|      1.2725|   5.1|2019|    3| 10|  18|    10|\n",
      "+-----------+------+---------+-------------+------+--------------------+----------+--------+-------------+--------+-----------+------+-----------------------+------------+------+----+-----+---+----+------+\n",
      "only showing top 20 rows\n",
      "\n"
     ]
    }
   ],
   "source": [
    "dados.show()"
   ]
  },
  {
   "cell_type": "code",
   "execution_count": 74,
   "id": "8ceb47f6-e5a6-46c0-8fe6-5c3cda894092",
   "metadata": {},
   "outputs": [],
   "source": [
    "# Criando DataFrames a partir das consultas SQL\n",
    "df_silver_dim_cliente = spark.sql(\"SELECT DISTINCT branch, city, customer_type, gender FROM transacoes\")\n",
    "df_silver_dim_produto = spark.sql(\"SELECT DISTINCT product_line, unit_price FROM transacoes\")\n",
    "df_silver_fato_transacao = spark.sql(\"SELECT * FROM transacoes order by total\")"
   ]
  },
  {
   "cell_type": "code",
   "execution_count": 75,
   "id": "d6a5af1a-276a-462e-8b19-2522a0375a09",
   "metadata": {},
   "outputs": [],
   "source": [
    "windowSpecCliente = Window.orderBy(\"branch\", \"city\", \"customer_type\", \"gender\")\n",
    "df_silver_dim_cliente = df_silver_dim_cliente.withColumn(\"customer_id\", dense_rank().over(windowSpecCliente))\n",
    "\n",
    "# Criando IDs correspondentes aos produtos\n",
    "windowSpecProduto = Window.orderBy(\"product_line\", \"unit_price\")\n",
    "df_silver_dim_produto = df_silver_dim_produto.withColumn(\"product_id\", dense_rank().over(windowSpecProduto))\n",
    "\n",
    "# Relacionando Fato Transação com Dimensões Cliente e Produto\n",
    "df_silver_fato_transacao = df_silver_fato_transacao.join(df_silver_dim_cliente.select(\"customer_id\", \"branch\", \"city\", \"customer_type\", \"gender\"), [\"branch\", \"city\", \"customer_type\", \"gender\"], \"left\")\n",
    "df_silver_fato_transacao = df_silver_fato_transacao.join(df_silver_dim_produto.select(\"product_id\", \"product_line\", \"unit_price\"), [\"product_line\", \"unit_price\"], \"left\")\n",
    "\n",
    "# Selecionando apenas as colunas necessárias na tabela Fato Transação\n",
    "df_silver_fato_transacao = df_silver_fato_transacao.select(\"invoice_id\", \"product_id\", \"customer_id\", \"quantity\", \"tax_5_percent\", \"total\", \"payment\", \"year\", \"month\", \"day\", \"hour\", \"minute\")\n",
    "\n",
    "# Salvando as tabelas Dimensão\n",
    "df_silver_dim_cliente.write.mode(\"overwrite\").parquet(\"spark-warehouse/silver/dim_cliente\")\n",
    "df_silver_dim_produto.write.mode(\"overwrite\").parquet(\"spark-warehouse/silver/dim_produto\")\n",
    "\n",
    "# Salvando a tabela de Fato Transação\n",
    "df_silver_fato_transacao.write.mode(\"overwrite\").parquet(\"spark-warehouse/silver/fato_transacao\")"
   ]
  },
  {
   "cell_type": "code",
   "execution_count": 73,
   "id": "ec74170e-47db-4fdd-a58f-d565894ae050",
   "metadata": {},
   "outputs": [
    {
     "name": "stdout",
     "output_type": "stream",
     "text": [
      "+-----------+----------+-----------+------+---------+--------------------+--------+-------------+----------+--------+-----------+----+-----+---+----+------+\n",
      "| invoice_id|product_id|customer_id|branch|     city|        product_line|quantity|tax_5_percent|unit_price|   total|    payment|year|month|day|hour|minute|\n",
      "+-----------+----------+-----------+------+---------+--------------------+--------+-------------+----------+--------+-----------+----+-----+---+----+------+\n",
      "|308-81-0538|       286|          3|     A|   Yangon| Fashion accessories|       4|        14.61|     73.05|  306.81|Credit card|2019|    2| 25|  17|    16|\n",
      "|834-83-1826|       797|          5|     B| Mandalay|  Home and lifestyle|       5|        20.51|     82.04|  430.71|Credit card|2019|    2| 25|  17|    16|\n",
      "|873-95-4984|       633|          5|     B| Mandalay|   Health and beauty|       7|       26.915|      76.9| 565.215|       Cash|2019|    2| 15|  20|    21|\n",
      "|400-80-4065|       616|         10|     C|Naypyitaw|   Health and beauty|       4|        13.71|     68.55|  287.91|Credit card|2019|    2| 15|  20|    21|\n",
      "|188-55-0967|       614|          6|     B| Mandalay|   Health and beauty|      10|       33.235|     66.47| 697.935|Credit card|2019|    1| 15|  15|     1|\n",
      "|660-29-7083|        90|         12|     C|Naypyitaw|Electronic access...|      10|       27.935|     55.87| 586.635|       Cash|2019|    1| 15|  15|     1|\n",
      "|346-84-3103|         8|          5|     B| Mandalay|Electronic access...|       5|        3.305|     13.22|  69.405|       Cash|2019|    3|  2|  19|    26|\n",
      "|825-94-5922|       858|          8|     B| Mandalay|   Sports and travel|       2|        2.531|     25.31|  53.151|    Ewallet|2019|    3|  2|  19|    26|\n",
      "|560-30-5617|       856|          7|     B| Mandalay|   Sports and travel|       5|       6.1925|     24.77|130.0425|       Cash|2019|    3| 24|  18|    27|\n",
      "|538-22-0304|       103|         12|     C|Naypyitaw|Electronic access...|      10|       32.475|     64.95| 681.975|       Cash|2019|    3| 24|  18|    27|\n",
      "|672-51-8681|       107|          9|     C|Naypyitaw|Electronic access...|       9|      29.9925|     66.65|629.8425|Credit card|2019|    1|  4|  18|    19|\n",
      "|732-94-0499|        66|         11|     C|Naypyitaw|Electronic access...|      10|       20.825|     41.65| 437.325|Credit card|2019|    1| 13|  17|     4|\n",
      "|810-60-6344|        65|         11|     C|Naypyitaw|Electronic access...|       8|       16.344|     40.86| 343.224|Credit card|2019|    2|  7|  14|    38|\n",
      "|633-09-3463|        78|         11|     C|Naypyitaw|Electronic access...|       3|       7.1475|     47.65|150.0975|Credit card|2019|    3| 28|  12|    58|\n",
      "|377-79-7592|        69|          9|     C|Naypyitaw|Electronic access...|       9|       20.178|     44.84| 423.738|Credit card|2019|    1| 14|  14|     0|\n",
      "|250-81-7186|       167|         11|     C|Naypyitaw|Electronic access...|       1|       4.9845|     99.69|104.6745|Credit card|2019|    2| 27|  10|    23|\n",
      "|182-69-8360|        29|          7|     B| Mandalay|Electronic access...|       4|         4.73|     23.65|   99.33|Credit card|2019|    1| 30|  13|    32|\n",
      "|817-69-8206|       168|          7|     B| Mandalay|Electronic access...|       9|      44.8785|     99.73|942.4485|Credit card|2019|    3|  2|  19|    42|\n",
      "|431-66-2305|       148|          7|     B| Mandalay|Electronic access...|       9|      39.7125|     88.25|833.9625|Credit card|2019|    2| 15|  20|    51|\n",
      "|156-20-0370|        33|          7|     B| Mandalay|Electronic access...|       1|       1.2725|     25.45| 26.7225|Credit card|2019|    3| 10|  18|    10|\n",
      "+-----------+----------+-----------+------+---------+--------------------+--------+-------------+----------+--------+-----------+----+-----+---+----+------+\n",
      "only showing top 20 rows\n",
      "\n"
     ]
    }
   ],
   "source": [
    "df_silver_fato_transacao.show()"
   ]
  }
 ],
 "metadata": {
  "kernelspec": {
   "display_name": "Python 3 (ipykernel)",
   "language": "python",
   "name": "python3"
  },
  "language_info": {
   "codemirror_mode": {
    "name": "ipython",
    "version": 3
   },
   "file_extension": ".py",
   "mimetype": "text/x-python",
   "name": "python",
   "nbconvert_exporter": "python",
   "pygments_lexer": "ipython3",
   "version": "3.11.6"
  }
 },
 "nbformat": 4,
 "nbformat_minor": 5
}
