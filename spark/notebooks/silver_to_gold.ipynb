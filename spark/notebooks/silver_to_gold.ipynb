{
 "cells": [
  {
   "cell_type": "code",
   "execution_count": 51,
   "id": "dcf35f11-6154-4a13-9b71-eebebf408a67",
   "metadata": {},
   "outputs": [],
   "source": [
    "from pyspark.sql import SparkSession\n",
    "from pyspark.sql.functions import year, month, sum\n",
    "from pyspark.sql import functions as F\n",
    "from pyspark.sql.window import Window\n",
    "from pyspark.sql.functions import concat, lit, to_timestamp\n",
    "from pyspark.sql.functions import desc"
   ]
  },
  {
   "cell_type": "code",
   "execution_count": 52,
   "id": "92203e4a-b7bd-4084-9153-1fb54f930729",
   "metadata": {},
   "outputs": [],
   "source": [
    "spark = SparkSession.builder.master(\"local[*]\") \\\n",
    "    .config(\"spark.executor.instances\", \"5\") \\\n",
    "    .config(\"spark.sql.legacy.timeParserPolicy\", \"LEGACY\").getOrCreate()"
   ]
  },
  {
   "cell_type": "code",
   "execution_count": 53,
   "id": "77de3484-39ba-4fa5-9c8a-0f3f29f9ba62",
   "metadata": {},
   "outputs": [],
   "source": [
    "df_silver_dim_cliente = spark.read.parquet(\"spark-warehouse/silver/dim_cliente\")\n",
    "df_silver_dim_produto = spark.read.parquet(\"spark-warehouse/silver/dim_produto\")\n",
    "df_silver_fato_transacao = spark.read.parquet(\"spark-warehouse/silver/fato_transacao\")"
   ]
  },
  {
   "cell_type": "code",
   "execution_count": 54,
   "id": "475e0648-a9ca-44ea-b21a-71f34c772b04",
   "metadata": {},
   "outputs": [],
   "source": [
    "# Unindo as colunas month, day, hour e minute em uma única coluna de data e hora\n",
    "df_silver_fato_transacao = df_silver_fato_transacao.withColumn(\n",
    "    \"data_hora\",\n",
    "    to_timestamp(\n",
    "        concat(\n",
    "            lit(df_silver_fato_transacao[\"year\"]),\n",
    "            lit(\"-\"),\n",
    "            lit(df_silver_fato_transacao[\"month\"]),\n",
    "            lit(\"-\"),\n",
    "            lit(df_silver_fato_transacao[\"day\"]),\n",
    "            lit(\" \"),\n",
    "            lit(df_silver_fato_transacao[\"hour\"]),\n",
    "            lit(\":\"),\n",
    "            lit(df_silver_fato_transacao[\"minute\"])\n",
    "        ),\n",
    "        \"yyyy-MM-dd HH:mm\"\n",
    "    )\n",
    ")\n",
    "\n",
    "# Removendo as colunas month, day, hour e minute, se necessário\n",
    "df_silver_fato_transacao = df_silver_fato_transacao.drop(\"month\", \"day\", \"hour\", \"minute\")"
   ]
  },
  {
   "cell_type": "code",
   "execution_count": 55,
   "id": "e52b56c3-22aa-456a-b3fe-b3c03fbbc96f",
   "metadata": {},
   "outputs": [
    {
     "name": "stdout",
     "output_type": "stream",
     "text": [
      "+-----------+----------+-----------+--------+-------------+--------+-----------+----+-------------------+\n",
      "| invoice_id|product_id|customer_id|quantity|tax_5_percent|   total|    payment|year|          data_hora|\n",
      "+-----------+----------+-----------+--------+-------------+--------+-----------+----+-------------------+\n",
      "|308-81-0538|       286|          3|       4|        14.61|  306.81|Credit card|2019|2019-02-25 17:16:00|\n",
      "|834-83-1826|       797|          5|       5|        20.51|  430.71|Credit card|2019|2019-02-25 17:16:00|\n",
      "|873-95-4984|       633|          5|       7|       26.915| 565.215|       Cash|2019|2019-02-15 20:21:00|\n",
      "|400-80-4065|       616|         10|       4|        13.71|  287.91|Credit card|2019|2019-02-15 20:21:00|\n",
      "|188-55-0967|       614|          6|      10|       33.235| 697.935|Credit card|2019|2019-01-15 15:01:00|\n",
      "|660-29-7083|        90|         12|      10|       27.935| 586.635|       Cash|2019|2019-01-15 15:01:00|\n",
      "|346-84-3103|         8|          5|       5|        3.305|  69.405|       Cash|2019|2019-03-02 19:26:00|\n",
      "|825-94-5922|       858|          8|       2|        2.531|  53.151|    Ewallet|2019|2019-03-02 19:26:00|\n",
      "|560-30-5617|       856|          7|       5|       6.1925|130.0425|       Cash|2019|2019-03-24 18:27:00|\n",
      "|538-22-0304|       103|         12|      10|       32.475| 681.975|       Cash|2019|2019-03-24 18:27:00|\n",
      "|672-51-8681|       107|          9|       9|      29.9925|629.8425|Credit card|2019|2019-01-04 18:19:00|\n",
      "|732-94-0499|        66|         11|      10|       20.825| 437.325|Credit card|2019|2019-01-13 17:04:00|\n",
      "|810-60-6344|        65|         11|       8|       16.344| 343.224|Credit card|2019|2019-02-07 14:38:00|\n",
      "|633-09-3463|        78|         11|       3|       7.1475|150.0975|Credit card|2019|2019-03-28 12:58:00|\n",
      "|377-79-7592|        69|          9|       9|       20.178| 423.738|Credit card|2019|2019-01-14 14:00:00|\n",
      "|250-81-7186|       167|         11|       1|       4.9845|104.6745|Credit card|2019|2019-02-27 10:23:00|\n",
      "|182-69-8360|        29|          7|       4|         4.73|   99.33|Credit card|2019|2019-01-30 13:32:00|\n",
      "|817-69-8206|       168|          7|       9|      44.8785|942.4485|Credit card|2019|2019-03-02 19:42:00|\n",
      "|431-66-2305|       148|          7|       9|      39.7125|833.9625|Credit card|2019|2019-02-15 20:51:00|\n",
      "|156-20-0370|        33|          7|       1|       1.2725| 26.7225|Credit card|2019|2019-03-10 18:10:00|\n",
      "+-----------+----------+-----------+--------+-------------+--------+-----------+----+-------------------+\n",
      "only showing top 20 rows\n",
      "\n"
     ]
    }
   ],
   "source": [
    "df_silver_fato_transacao.show()"
   ]
  },
  {
   "cell_type": "code",
   "execution_count": 56,
   "id": "9fe60039-3e2a-4cf0-ab29-3b28362d6e81",
   "metadata": {},
   "outputs": [],
   "source": [
    "# Extraindo o mês da coluna data_hora\n",
    "df_silver_fato_transacao = df_silver_fato_transacao.withColumn(\"mes\", month(\"data_hora\"))\n",
    "\n",
    "# Agrupando por mês e produto e calculando o total de vendas em quantidade e valor\n",
    "df_total_vendas = df_silver_fato_transacao.groupBy(\"mes\", \"product_id\").agg(\n",
    "    sum(\"quantity\").alias(\"total_vendas_quantidade\"),\n",
    "    sum(\"total\").alias(\"total_vendas_valor\")\n",
    ")\n",
    "\n",
    "# Fazendo o left join com a tabela de produtos para obter o nome do produto\n",
    "df_total_vendas = df_total_vendas.join(df_silver_dim_produto, \"product_id\", \"left\")\n",
    "\n",
    "# Selecionando as colunas necessárias\n",
    "df_total_vendas = df_total_vendas.select(\"mes\", \"product_line\", \"unit_price\", \"total_vendas_quantidade\", \"total_vendas_valor\")\n",
    "\n",
    "# Ordenando por mês e produto\n",
    "df_total_vendas = df_total_vendas.orderBy(\"mes\", \"product_line\", desc(\"total_vendas_valor\"))\n",
    "\n",
    "# Exportando dados de vendas por produto\n",
    "df_total_vendas.write.mode(\"overwrite\").parquet(\"spark-warehouse/gold/vendas_por_produto\")"
   ]
  },
  {
   "cell_type": "code",
   "execution_count": 57,
   "id": "62490b33-f73c-4d52-b0c2-4e3e50709f91",
   "metadata": {},
   "outputs": [
    {
     "name": "stdout",
     "output_type": "stream",
     "text": [
      "+---+--------------------+----------+-----------------------+------------------+\n",
      "|mes|        product_line|unit_price|total_vendas_quantidade|total_vendas_valor|\n",
      "+---+--------------------+----------+-----------------------+------------------+\n",
      "|  1|Electronic access...|     88.67|                     10|           931.035|\n",
      "|  1|Electronic access...|     87.87|                      9|          830.3715|\n",
      "|  1|Electronic access...|     74.22|                     10|            779.31|\n",
      "|  1|Electronic access...|     91.56|                      8|           769.104|\n",
      "|  1|Electronic access...|     72.13|                     10|           757.365|\n",
      "|  1|Electronic access...|     96.37|                      7|          708.3195|\n",
      "|  1|Electronic access...|     93.88|                      7|           690.018|\n",
      "|  1|Electronic access...|     87.08|                      7|           640.038|\n",
      "|  1|Electronic access...|     66.65|                      9|          629.8425|\n",
      "|  1|Electronic access...|     58.76|                     10|            616.98|\n",
      "|  1|Electronic access...|     55.87|                     10|           586.635|\n",
      "|  1|Electronic access...|     60.88|                      9|           575.316|\n",
      "|  1|Electronic access...|     75.88|                      7|           557.718|\n",
      "|  1|Electronic access...|     46.57|                     10|           488.985|\n",
      "|  1|Electronic access...|     74.71|                      6|           470.673|\n",
      "|  1|Electronic access...|     61.41|                      7|          451.3635|\n",
      "|  1|Electronic access...|     41.65|                     10|           437.325|\n",
      "|  1|Electronic access...|     44.84|                      9|           423.738|\n",
      "|  1|Electronic access...|      40.3|                     10|            423.15|\n",
      "|  1|Electronic access...|     66.06|                      6|           416.178|\n",
      "+---+--------------------+----------+-----------------------+------------------+\n",
      "only showing top 20 rows\n",
      "\n"
     ]
    }
   ],
   "source": [
    "df_total_vendas.show()"
   ]
  },
  {
   "cell_type": "code",
   "execution_count": 58,
   "id": "34f05c6d-6a67-4006-a386-a9372e2a9ba4",
   "metadata": {},
   "outputs": [],
   "source": [
    "# Tratamento de Dados Faltantes\n",
    "df_silver_fato_transacao = df_silver_fato_transacao.fillna(0)  # Preencher valores nulos com zero\n",
    "\n",
    "avg_quantity_per_product = df_silver_fato_transacao.groupBy(\"product_id\").agg(F.avg(\"quantity\").alias(\"avg_quantity\"))\n",
    "\n",
    "avg_quantity_per_product = avg_quantity_per_product.join(df_silver_dim_produto, \"product_id\", \"left\")\n",
    "\n",
    "avg_quantity_per_product = avg_quantity_per_product.select(\"product_line\", \"unit_price\", \"avg_quantity\")\n",
    "\n",
    "avg_quantity_per_product = avg_quantity_per_product.orderBy(\"product_line\", \"unit_price\")\n",
    "\n",
    "# Exportando dados de média por produto\n",
    "df_total_vendas.write.mode(\"overwrite\").parquet(\"spark-warehouse/gold/media_por_produto\")"
   ]
  },
  {
   "cell_type": "code",
   "execution_count": 59,
   "id": "5530b6b7-3cc5-4275-ac19-1b91729f09c2",
   "metadata": {},
   "outputs": [
    {
     "name": "stdout",
     "output_type": "stream",
     "text": [
      "+--------------------+----------+------------+\n",
      "|        product_line|unit_price|avg_quantity|\n",
      "+--------------------+----------+------------+\n",
      "|Electronic access...|     10.56|         8.0|\n",
      "|Electronic access...|     10.59|         3.0|\n",
      "|Electronic access...|     11.81|         5.0|\n",
      "|Electronic access...|     11.94|         3.0|\n",
      "|Electronic access...|     12.05|         5.0|\n",
      "|Electronic access...|      12.1|         8.0|\n",
      "|Electronic access...|     12.45|         6.0|\n",
      "|Electronic access...|     13.22|         5.0|\n",
      "|Electronic access...|     13.78|         4.0|\n",
      "|Electronic access...|     14.96|         8.0|\n",
      "|Electronic access...|     15.28|         5.0|\n",
      "|Electronic access...|     15.69|         3.0|\n",
      "|Electronic access...|     17.42|        10.0|\n",
      "|Electronic access...|     18.77|         6.0|\n",
      "|Electronic access...|     18.93|         6.0|\n",
      "|Electronic access...|     19.24|         9.0|\n",
      "|Electronic access...|     19.32|         7.0|\n",
      "|Electronic access...|     20.77|         4.0|\n",
      "|Electronic access...|     20.85|         8.0|\n",
      "|Electronic access...|     20.89|         2.0|\n",
      "+--------------------+----------+------------+\n",
      "only showing top 20 rows\n",
      "\n"
     ]
    }
   ],
   "source": [
    "avg_quantity_per_product.show()"
   ]
  }
 ],
 "metadata": {
  "kernelspec": {
   "display_name": "Python 3 (ipykernel)",
   "language": "python",
   "name": "python3"
  },
  "language_info": {
   "codemirror_mode": {
    "name": "ipython",
    "version": 3
   },
   "file_extension": ".py",
   "mimetype": "text/x-python",
   "name": "python",
   "nbconvert_exporter": "python",
   "pygments_lexer": "ipython3",
   "version": "3.11.6"
  }
 },
 "nbformat": 4,
 "nbformat_minor": 5
}
