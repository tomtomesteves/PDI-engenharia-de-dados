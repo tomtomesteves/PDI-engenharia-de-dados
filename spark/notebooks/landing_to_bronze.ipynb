{
 "cells": [
  {
   "cell_type": "code",
   "execution_count": 1,
   "id": "a7950e79-eb3f-4a8f-a13b-795b009820c4",
   "metadata": {},
   "outputs": [],
   "source": [
    "from pyspark.sql import SparkSession\n",
    "\n",
    "from pyspark.sql.functions import col, to_date, to_timestamp, hour, minute, year, month, day\n",
    "from pyspark.sql.types import StringType, DoubleType, IntegerType, DateType, TimestampType"
   ]
  },
  {
   "cell_type": "code",
   "execution_count": 2,
   "id": "f66c11f4-c2e1-4dba-9847-ff51612b14d4",
   "metadata": {},
   "outputs": [],
   "source": [
    "spark = SparkSession.builder.master(\"local[*]\") \\\n",
    "    .config(\"spark.executor.instances\", \"5\") \\\n",
    "    .config(\"spark.sql.legacy.timeParserPolicy\", \"LEGACY\").getOrCreate()"
   ]
  },
  {
   "cell_type": "code",
   "execution_count": 6,
   "id": "d2d00053-b6e5-4594-9402-f62baae6b8c8",
   "metadata": {},
   "outputs": [],
   "source": [
    "df = spark.read.option(\"Header\", True).csv(\"spark-warehouse/landing/supermarket_sales.csv\")"
   ]
  },
  {
   "cell_type": "code",
   "execution_count": 4,
   "id": "3e5d8ea5-1a0b-4791-8106-15cb4614f07c",
   "metadata": {},
   "outputs": [
    {
     "data": {
      "text/plain": [
       "['Invoice ID',\n",
       " 'Branch',\n",
       " 'City',\n",
       " 'Customer type',\n",
       " 'Gender',\n",
       " 'Product line',\n",
       " 'Unit price',\n",
       " 'Quantity',\n",
       " 'Tax 5%',\n",
       " 'Total',\n",
       " 'Date',\n",
       " 'Time',\n",
       " 'Payment',\n",
       " 'cogs',\n",
       " 'gross margin percentage',\n",
       " 'gross income',\n",
       " 'Rating']"
      ]
     },
     "execution_count": 4,
     "metadata": {},
     "output_type": "execute_result"
    }
   ],
   "source": [
    "df.columns"
   ]
  },
  {
   "cell_type": "code",
   "execution_count": 5,
   "id": "b81bdfee-303a-4683-9f98-56a165c6bdea",
   "metadata": {},
   "outputs": [
    {
     "name": "stdout",
     "output_type": "stream",
     "text": [
      "root\n",
      " |-- Invoice ID: string (nullable = true)\n",
      " |-- Branch: string (nullable = true)\n",
      " |-- City: string (nullable = true)\n",
      " |-- Customer type: string (nullable = true)\n",
      " |-- Gender: string (nullable = true)\n",
      " |-- Product line: string (nullable = true)\n",
      " |-- Unit price: string (nullable = true)\n",
      " |-- Quantity: string (nullable = true)\n",
      " |-- Tax 5%: string (nullable = true)\n",
      " |-- Total: string (nullable = true)\n",
      " |-- Date: string (nullable = true)\n",
      " |-- Time: string (nullable = true)\n",
      " |-- Payment: string (nullable = true)\n",
      " |-- cogs: string (nullable = true)\n",
      " |-- gross margin percentage: string (nullable = true)\n",
      " |-- gross income: string (nullable = true)\n",
      " |-- Rating: string (nullable = true)\n",
      "\n"
     ]
    }
   ],
   "source": [
    "df.printSchema()"
   ]
  },
  {
   "cell_type": "code",
   "execution_count": 6,
   "id": "9fe30eef-3ff3-452b-942b-71cc765f6f50",
   "metadata": {},
   "outputs": [
    {
     "name": "stdout",
     "output_type": "stream",
     "text": [
      "+-----------+------+------+-------------+------+-----------------+----------+--------+-------+--------+--------+-----+-------+------+-----------------------+------------+------+\n",
      "| Invoice ID|Branch|  City|Customer type|Gender|     Product line|Unit price|Quantity| Tax 5%|   Total|    Date| Time|Payment|  cogs|gross margin percentage|gross income|Rating|\n",
      "+-----------+------+------+-------------+------+-----------------+----------+--------+-------+--------+--------+-----+-------+------+-----------------------+------------+------+\n",
      "|750-67-8428|     A|Yangon|       Member|Female|Health and beauty|     74.69|       7|26.1415|548.9715|1/5/2019|13:08|Ewallet|522.83|            4.761904762|     26.1415|   9.1|\n",
      "+-----------+------+------+-------------+------+-----------------+----------+--------+-------+--------+--------+-----+-------+------+-----------------------+------------+------+\n",
      "only showing top 1 row\n",
      "\n"
     ]
    }
   ],
   "source": [
    "df.show(1)"
   ]
  },
  {
   "cell_type": "code",
   "execution_count": 7,
   "id": "e75451cd-774b-4175-88d4-88113f3530e8",
   "metadata": {},
   "outputs": [],
   "source": [
    "column_rename_and_cast = {\n",
    "    'Invoice ID': ('invoice_id', StringType()),\n",
    "    'Branch': ('branch', StringType()),\n",
    "    'City': ('city', StringType()),\n",
    "    'Customer type': ('customer_type', StringType()),\n",
    "    'Gender': ('gender', StringType()),\n",
    "    'Product line': ('product_line', StringType()),\n",
    "    'Unit price': ('unit_price', DoubleType()),\n",
    "    'Quantity': ('quantity', IntegerType()),\n",
    "    'Tax 5%': ('tax_5_percent', DoubleType()),\n",
    "    'Total': ('total', DoubleType()),\n",
    "    'Date': ('date', StringType()), # Tratar data direto pode levar a problemas, melhor usar funções auxiliares\n",
    "    'Time': ('time', StringType()), # Tratar timetamp direto pode levar a problemas, melhor usar funções auxiliares\n",
    "    'Payment': ('payment', StringType()),\n",
    "    'cogs': ('cogs', DoubleType()),\n",
    "    'gross margin percentage': ('gross_margin_percentage', DoubleType()),\n",
    "    'gross income': ('gross_income', DoubleType()),\n",
    "    'Rating': ('rating', DoubleType())\n",
    "}"
   ]
  },
  {
   "cell_type": "code",
   "execution_count": 8,
   "id": "64f64e49-a968-4116-aa5b-89ff36c62998",
   "metadata": {},
   "outputs": [],
   "source": [
    "for original_name, (new_name, new_type) in column_rename_and_cast.items():\n",
    "    df = df.withColumnRenamed(original_name, new_name) \\\n",
    "           .withColumn(new_name, col(new_name).cast(new_type))"
   ]
  },
  {
   "cell_type": "code",
   "execution_count": 9,
   "id": "9b2974b3-b52b-4c08-9e08-b509fc9201d7",
   "metadata": {},
   "outputs": [
    {
     "name": "stdout",
     "output_type": "stream",
     "text": [
      "root\n",
      " |-- invoice_id: string (nullable = true)\n",
      " |-- branch: string (nullable = true)\n",
      " |-- city: string (nullable = true)\n",
      " |-- customer_type: string (nullable = true)\n",
      " |-- gender: string (nullable = true)\n",
      " |-- product_line: string (nullable = true)\n",
      " |-- unit_price: double (nullable = true)\n",
      " |-- quantity: integer (nullable = true)\n",
      " |-- tax_5_percent: double (nullable = true)\n",
      " |-- total: double (nullable = true)\n",
      " |-- date: string (nullable = true)\n",
      " |-- time: string (nullable = true)\n",
      " |-- payment: string (nullable = true)\n",
      " |-- cogs: double (nullable = true)\n",
      " |-- gross_margin_percentage: double (nullable = true)\n",
      " |-- gross_income: double (nullable = true)\n",
      " |-- rating: double (nullable = true)\n",
      "\n"
     ]
    }
   ],
   "source": [
    "df.printSchema()"
   ]
  },
  {
   "cell_type": "code",
   "execution_count": 10,
   "id": "8929c9d5-8536-4c76-9c88-0dee6acf7bb1",
   "metadata": {},
   "outputs": [
    {
     "name": "stdout",
     "output_type": "stream",
     "text": [
      "== Physical Plan ==\n",
      "*(1) Project [Invoice ID#17 AS invoice_id#156, Branch#18 AS branch#192, City#19 AS city#228, Customer type#20 AS customer_type#264, Gender#21 AS gender#300, Product line#22 AS product_line#336, cast(Unit price#23 as double) AS unit_price#372, cast(Quantity#24 as int) AS quantity#408, cast(Tax 5%#25 as double) AS tax_5_percent#444, cast(Total#26 as double) AS total#480, Date#27 AS date#516, Time#28 AS time#552, Payment#29 AS payment#588, cast(cogs#30 as double) AS cogs#624, cast(gross margin percentage#31 as double) AS gross_margin_percentage#660, cast(gross income#32 as double) AS gross_income#696, cast(Rating#33 as double) AS rating#732]\n",
      "+- FileScan csv [Invoice ID#17,Branch#18,City#19,Customer type#20,Gender#21,Product line#22,Unit price#23,Quantity#24,Tax 5%#25,Total#26,Date#27,Time#28,Payment#29,cogs#30,gross margin percentage#31,gross income#32,Rating#33] Batched: false, DataFilters: [], Format: CSV, Location: InMemoryFileIndex(1 paths)[file:/home/jovyan/notebooks/spark-warehouse/landing/supermarket_sales...., PartitionFilters: [], PushedFilters: [], ReadSchema: struct<Invoice ID:string,Branch:string,City:string,Customer type:string,Gender:string,Product lin...\n",
      "\n",
      "\n"
     ]
    }
   ],
   "source": [
    "df.explain()"
   ]
  },
  {
   "cell_type": "code",
   "execution_count": 11,
   "id": "e68943ff-6268-45a8-bc0c-1ae2a2c19239",
   "metadata": {},
   "outputs": [
    {
     "name": "stdout",
     "output_type": "stream",
     "text": [
      "+-----------+------+---------+-------------+------+--------------------+----------+--------+-------------+--------+---------+-----+-----------+------+-----------------------+------------+------+\n",
      "| invoice_id|branch|     city|customer_type|gender|        product_line|unit_price|quantity|tax_5_percent|   total|     date| time|    payment|  cogs|gross_margin_percentage|gross_income|rating|\n",
      "+-----------+------+---------+-------------+------+--------------------+----------+--------+-------------+--------+---------+-----+-----------+------+-----------------------+------------+------+\n",
      "|750-67-8428|     A|   Yangon|       Member|Female|   Health and beauty|     74.69|       7|      26.1415|548.9715| 1/5/2019|13:08|    Ewallet|522.83|            4.761904762|     26.1415|   9.1|\n",
      "|226-31-3081|     C|Naypyitaw|       Normal|Female|Electronic access...|     15.28|       5|         3.82|   80.22| 3/8/2019|10:29|       Cash|  76.4|            4.761904762|        3.82|   9.6|\n",
      "|631-41-3108|     A|   Yangon|       Normal|  Male|  Home and lifestyle|     46.33|       7|      16.2155|340.5255| 3/3/2019|13:23|Credit card|324.31|            4.761904762|     16.2155|   7.4|\n",
      "|123-19-1176|     A|   Yangon|       Member|  Male|   Health and beauty|     58.22|       8|       23.288| 489.048|1/27/2019|20:33|    Ewallet|465.76|            4.761904762|      23.288|   8.4|\n",
      "|373-73-7910|     A|   Yangon|       Normal|  Male|   Sports and travel|     86.31|       7|      30.2085|634.3785| 2/8/2019|10:37|    Ewallet|604.17|            4.761904762|     30.2085|   5.3|\n",
      "|699-14-3026|     C|Naypyitaw|       Normal|  Male|Electronic access...|     85.39|       7|      29.8865|627.6165|3/25/2019|18:30|    Ewallet|597.73|            4.761904762|     29.8865|   4.1|\n",
      "|355-53-5943|     A|   Yangon|       Member|Female|Electronic access...|     68.84|       6|       20.652| 433.692|2/25/2019|14:36|    Ewallet|413.04|            4.761904762|      20.652|   5.8|\n",
      "|315-22-5665|     C|Naypyitaw|       Normal|Female|  Home and lifestyle|     73.56|      10|        36.78|  772.38|2/24/2019|11:38|    Ewallet| 735.6|            4.761904762|       36.78|   8.0|\n",
      "|665-32-9167|     A|   Yangon|       Member|Female|   Health and beauty|     36.26|       2|        3.626|  76.146|1/10/2019|17:15|Credit card| 72.52|            4.761904762|       3.626|   7.2|\n",
      "|692-92-5582|     B| Mandalay|       Member|Female|  Food and beverages|     54.84|       3|        8.226| 172.746|2/20/2019|13:27|Credit card|164.52|            4.761904762|       8.226|   5.9|\n",
      "|351-62-0822|     B| Mandalay|       Member|Female| Fashion accessories|     14.48|       4|        2.896|  60.816| 2/6/2019|18:07|    Ewallet| 57.92|            4.761904762|       2.896|   4.5|\n",
      "|529-56-3974|     B| Mandalay|       Member|  Male|Electronic access...|     25.51|       4|        5.102| 107.142| 3/9/2019|17:03|       Cash|102.04|            4.761904762|       5.102|   6.8|\n",
      "|365-64-0515|     A|   Yangon|       Normal|Female|Electronic access...|     46.95|       5|      11.7375|246.4875|2/12/2019|10:25|    Ewallet|234.75|            4.761904762|     11.7375|   7.1|\n",
      "|252-56-2699|     A|   Yangon|       Normal|  Male|  Food and beverages|     43.19|      10|       21.595| 453.495| 2/7/2019|16:48|    Ewallet| 431.9|            4.761904762|      21.595|   8.2|\n",
      "|829-34-3910|     A|   Yangon|       Normal|Female|   Health and beauty|     71.38|      10|        35.69|  749.49|3/29/2019|19:21|       Cash| 713.8|            4.761904762|       35.69|   5.7|\n",
      "|299-46-1805|     B| Mandalay|       Member|Female|   Sports and travel|     93.72|       6|       28.116| 590.436|1/15/2019|16:19|       Cash|562.32|            4.761904762|      28.116|   4.5|\n",
      "|656-95-9349|     A|   Yangon|       Member|Female|   Health and beauty|     68.93|       7|      24.1255|506.6355|3/11/2019|11:03|Credit card|482.51|            4.761904762|     24.1255|   4.6|\n",
      "|765-26-6951|     A|   Yangon|       Normal|  Male|   Sports and travel|     72.61|       6|       21.783| 457.443| 1/1/2019|10:39|Credit card|435.66|            4.761904762|      21.783|   6.9|\n",
      "|329-62-1586|     A|   Yangon|       Normal|  Male|  Food and beverages|     54.67|       3|       8.2005|172.2105|1/21/2019|18:00|Credit card|164.01|            4.761904762|      8.2005|   8.6|\n",
      "|319-50-3348|     B| Mandalay|       Normal|Female|  Home and lifestyle|      40.3|       2|         4.03|   84.63|3/11/2019|15:30|    Ewallet|  80.6|            4.761904762|        4.03|   4.4|\n",
      "+-----------+------+---------+-------------+------+--------------------+----------+--------+-------------+--------+---------+-----+-----------+------+-----------------------+------------+------+\n",
      "only showing top 20 rows\n",
      "\n"
     ]
    }
   ],
   "source": [
    "df.show()"
   ]
  },
  {
   "cell_type": "code",
   "execution_count": 12,
   "id": "3dc28c70-638f-4a76-8473-dd9086e74d49",
   "metadata": {},
   "outputs": [],
   "source": [
    "df = df.withColumn(\"year\", year(to_date(col(\"date\"), 'MM/dd/yyyy'))) \\\n",
    "        .withColumn(\"month\", month(to_date(col(\"date\"), 'MM/dd/yyyy'))) \\\n",
    "        .withColumn(\"day\", day(to_date(col(\"date\"), 'MM/dd/yyyy'))) \\\n",
    "        .withColumn(\"hour\", hour(to_timestamp(col(\"time\"), 'HH:mm'))) \\\n",
    "        .withColumn(\"minute\", minute(to_timestamp(col(\"time\"), 'HH:mm'))) \\\n",
    "        .drop(col(\"date\")) \\\n",
    "        .drop(col(\"time\"))"
   ]
  },
  {
   "cell_type": "code",
   "execution_count": 13,
   "id": "d5228c19-ff7c-4e17-b2aa-27feb3d8d978",
   "metadata": {},
   "outputs": [
    {
     "name": "stdout",
     "output_type": "stream",
     "text": [
      "root\n",
      " |-- invoice_id: string (nullable = true)\n",
      " |-- branch: string (nullable = true)\n",
      " |-- city: string (nullable = true)\n",
      " |-- customer_type: string (nullable = true)\n",
      " |-- gender: string (nullable = true)\n",
      " |-- product_line: string (nullable = true)\n",
      " |-- unit_price: double (nullable = true)\n",
      " |-- quantity: integer (nullable = true)\n",
      " |-- tax_5_percent: double (nullable = true)\n",
      " |-- total: double (nullable = true)\n",
      " |-- payment: string (nullable = true)\n",
      " |-- cogs: double (nullable = true)\n",
      " |-- gross_margin_percentage: double (nullable = true)\n",
      " |-- gross_income: double (nullable = true)\n",
      " |-- rating: double (nullable = true)\n",
      " |-- year: integer (nullable = true)\n",
      " |-- month: integer (nullable = true)\n",
      " |-- day: integer (nullable = true)\n",
      " |-- hour: integer (nullable = true)\n",
      " |-- minute: integer (nullable = true)\n",
      "\n"
     ]
    }
   ],
   "source": [
    "df.printSchema()"
   ]
  },
  {
   "cell_type": "code",
   "execution_count": 14,
   "id": "e5a6c1fe-cf41-4dad-ac2b-461ec606bbd4",
   "metadata": {},
   "outputs": [
    {
     "name": "stdout",
     "output_type": "stream",
     "text": [
      "+-----------+------+---------+-------------+------+--------------------+----------+--------+-------------+--------+-----------+------+-----------------------+------------+------+----+-----+---+----+------+\n",
      "| invoice_id|branch|     city|customer_type|gender|        product_line|unit_price|quantity|tax_5_percent|   total|    payment|  cogs|gross_margin_percentage|gross_income|rating|year|month|day|hour|minute|\n",
      "+-----------+------+---------+-------------+------+--------------------+----------+--------+-------------+--------+-----------+------+-----------------------+------------+------+----+-----+---+----+------+\n",
      "|750-67-8428|     A|   Yangon|       Member|Female|   Health and beauty|     74.69|       7|      26.1415|548.9715|    Ewallet|522.83|            4.761904762|     26.1415|   9.1|2019|    1|  5|  13|     8|\n",
      "|226-31-3081|     C|Naypyitaw|       Normal|Female|Electronic access...|     15.28|       5|         3.82|   80.22|       Cash|  76.4|            4.761904762|        3.82|   9.6|2019|    3|  8|  10|    29|\n",
      "|631-41-3108|     A|   Yangon|       Normal|  Male|  Home and lifestyle|     46.33|       7|      16.2155|340.5255|Credit card|324.31|            4.761904762|     16.2155|   7.4|2019|    3|  3|  13|    23|\n",
      "|123-19-1176|     A|   Yangon|       Member|  Male|   Health and beauty|     58.22|       8|       23.288| 489.048|    Ewallet|465.76|            4.761904762|      23.288|   8.4|2019|    1| 27|  20|    33|\n",
      "|373-73-7910|     A|   Yangon|       Normal|  Male|   Sports and travel|     86.31|       7|      30.2085|634.3785|    Ewallet|604.17|            4.761904762|     30.2085|   5.3|2019|    2|  8|  10|    37|\n",
      "|699-14-3026|     C|Naypyitaw|       Normal|  Male|Electronic access...|     85.39|       7|      29.8865|627.6165|    Ewallet|597.73|            4.761904762|     29.8865|   4.1|2019|    3| 25|  18|    30|\n",
      "|355-53-5943|     A|   Yangon|       Member|Female|Electronic access...|     68.84|       6|       20.652| 433.692|    Ewallet|413.04|            4.761904762|      20.652|   5.8|2019|    2| 25|  14|    36|\n",
      "|315-22-5665|     C|Naypyitaw|       Normal|Female|  Home and lifestyle|     73.56|      10|        36.78|  772.38|    Ewallet| 735.6|            4.761904762|       36.78|   8.0|2019|    2| 24|  11|    38|\n",
      "|665-32-9167|     A|   Yangon|       Member|Female|   Health and beauty|     36.26|       2|        3.626|  76.146|Credit card| 72.52|            4.761904762|       3.626|   7.2|2019|    1| 10|  17|    15|\n",
      "|692-92-5582|     B| Mandalay|       Member|Female|  Food and beverages|     54.84|       3|        8.226| 172.746|Credit card|164.52|            4.761904762|       8.226|   5.9|2019|    2| 20|  13|    27|\n",
      "|351-62-0822|     B| Mandalay|       Member|Female| Fashion accessories|     14.48|       4|        2.896|  60.816|    Ewallet| 57.92|            4.761904762|       2.896|   4.5|2019|    2|  6|  18|     7|\n",
      "|529-56-3974|     B| Mandalay|       Member|  Male|Electronic access...|     25.51|       4|        5.102| 107.142|       Cash|102.04|            4.761904762|       5.102|   6.8|2019|    3|  9|  17|     3|\n",
      "|365-64-0515|     A|   Yangon|       Normal|Female|Electronic access...|     46.95|       5|      11.7375|246.4875|    Ewallet|234.75|            4.761904762|     11.7375|   7.1|2019|    2| 12|  10|    25|\n",
      "|252-56-2699|     A|   Yangon|       Normal|  Male|  Food and beverages|     43.19|      10|       21.595| 453.495|    Ewallet| 431.9|            4.761904762|      21.595|   8.2|2019|    2|  7|  16|    48|\n",
      "|829-34-3910|     A|   Yangon|       Normal|Female|   Health and beauty|     71.38|      10|        35.69|  749.49|       Cash| 713.8|            4.761904762|       35.69|   5.7|2019|    3| 29|  19|    21|\n",
      "|299-46-1805|     B| Mandalay|       Member|Female|   Sports and travel|     93.72|       6|       28.116| 590.436|       Cash|562.32|            4.761904762|      28.116|   4.5|2019|    1| 15|  16|    19|\n",
      "|656-95-9349|     A|   Yangon|       Member|Female|   Health and beauty|     68.93|       7|      24.1255|506.6355|Credit card|482.51|            4.761904762|     24.1255|   4.6|2019|    3| 11|  11|     3|\n",
      "|765-26-6951|     A|   Yangon|       Normal|  Male|   Sports and travel|     72.61|       6|       21.783| 457.443|Credit card|435.66|            4.761904762|      21.783|   6.9|2019|    1|  1|  10|    39|\n",
      "|329-62-1586|     A|   Yangon|       Normal|  Male|  Food and beverages|     54.67|       3|       8.2005|172.2105|Credit card|164.01|            4.761904762|      8.2005|   8.6|2019|    1| 21|  18|     0|\n",
      "|319-50-3348|     B| Mandalay|       Normal|Female|  Home and lifestyle|      40.3|       2|         4.03|   84.63|    Ewallet|  80.6|            4.761904762|        4.03|   4.4|2019|    3| 11|  15|    30|\n",
      "+-----------+------+---------+-------------+------+--------------------+----------+--------+-------------+--------+-----------+------+-----------------------+------------+------+----+-----+---+----+------+\n",
      "only showing top 20 rows\n",
      "\n"
     ]
    }
   ],
   "source": [
    "df.show()"
   ]
  },
  {
   "cell_type": "code",
   "execution_count": 15,
   "id": "be2be709-2c06-467b-8819-58b4146711f6",
   "metadata": {},
   "outputs": [],
   "source": [
    "df.write.saveAsTable(\"supermarket_sales_bronze\", format=\"parquet\", mode=\"overwrite\", partitionBy=[\"year\", \"month\", \"day\", \"hour\", \"minute\"], path=\"bronze/supermarket_sales\")"
   ]
  },
  {
   "cell_type": "code",
   "execution_count": null,
   "id": "d7dcceb1-4da4-4cec-a771-0ee901a7df5a",
   "metadata": {},
   "outputs": [],
   "source": []
  }
 ],
 "metadata": {
  "kernelspec": {
   "display_name": "Python 3 (ipykernel)",
   "language": "python",
   "name": "python3"
  },
  "language_info": {
   "codemirror_mode": {
    "name": "ipython",
    "version": 3
   },
   "file_extension": ".py",
   "mimetype": "text/x-python",
   "name": "python",
   "nbconvert_exporter": "python",
   "pygments_lexer": "ipython3",
   "version": "3.12.2"
  }
 },
 "nbformat": 4,
 "nbformat_minor": 5
}
